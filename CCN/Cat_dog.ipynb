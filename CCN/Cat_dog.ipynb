{
  "nbformat": 4,
  "nbformat_minor": 0,
  "metadata": {
    "colab": {
      "provenance": [],
      "authorship_tag": "ABX9TyOORIGO6lLVpTkIixWv7sa9",
      "include_colab_link": true
    },
    "kernelspec": {
      "name": "python3",
      "display_name": "Python 3"
    },
    "language_info": {
      "name": "python"
    }
  },
  "cells": [
    {
      "cell_type": "markdown",
      "metadata": {
        "id": "view-in-github",
        "colab_type": "text"
      },
      "source": [
        "<a href=\"https://colab.research.google.com/github/AndreaMazzoleniOOI/OOI_Python-courses/blob/main/Cat_dog.ipynb\" target=\"_parent\"><img src=\"https://colab.research.google.com/assets/colab-badge.svg\" alt=\"Open In Colab\"/></a>"
      ]
    },
    {
      "cell_type": "code",
      "source": [
        "from google.colab import drive\n",
        "import sys\n",
        "\n",
        "drive.mount('/src', force_remount=True)\n",
        "sys.path.insert(0, './content/src')"
      ],
      "metadata": {
        "colab": {
          "base_uri": "https://localhost:8080/"
        },
        "id": "8RqL2wkoC937",
        "outputId": "b07dc81e-a7ae-46b7-8d26-0ea32539fc3f"
      },
      "execution_count": 1,
      "outputs": [
        {
          "output_type": "stream",
          "name": "stdout",
          "text": [
            "Mounted at /src\n"
          ]
        }
      ]
    },
    {
      "cell_type": "code",
      "source": [
        "import glob\n",
        "import cv2 as cv\n",
        "import random\n",
        "import matplotlib.pyplot as plt\n",
        "from src.create_dataset import Dataset\n",
        "from src.model import ModelParams\n",
        "import tensorflow as tf\n",
        "print(tf.config.list_physical_devices('GPU'))\n",
        "print(tf.test.is_built_with_cuda())\n",
        "\n",
        "from keras.models import Sequential\n",
        "from keras.layers import Dense, Dropout, Activation, Flatten\n",
        "from keras.layers import Convolution2D, MaxPooling2D\n",
        "from keras import backend\n",
        "backend.set_image_data_format('channels_last')\n",
        "import os"
      ],
      "metadata": {
        "colab": {
          "base_uri": "https://localhost:8080/"
        },
        "id": "LnP6IBghBasq",
        "outputId": "e6937f1a-9ff3-49ab-943a-0d8008752130"
      },
      "execution_count": 2,
      "outputs": [
        {
          "output_type": "stream",
          "name": "stdout",
          "text": [
            "[]\n",
            "True\n"
          ]
        }
      ]
    },
    {
      "cell_type": "code",
      "source": [
        "paths_dir = [f'/content/img/{p}' for p in os.listdir('/content/img')]\n",
        "\n",
        "data = Dataset(dir_paths=paths_dir, size=50)\n",
        "data.create_labels_from_paths()\n",
        "data.info()"
      ],
      "metadata": {
        "id": "UJ9BQqvwEBQY",
        "colab": {
          "base_uri": "https://localhost:8080/"
        },
        "outputId": "80d36870-81d0-48e6-8f87-f06898a78e79"
      },
      "execution_count": 3,
      "outputs": [
        {
          "output_type": "stream",
          "name": "stdout",
          "text": [
            "Dataset origin: ['/content/img/dog', '/content/img/cat', '/content/img/.ipynb_checkpoints']\n",
            "Shape order: NWHC\n",
            "Dataset: 24\n",
            "Size of x_train: (16, 50, 50, 3)\n",
            "Size of y_train: (16,)\n",
            "Size of x_test: (8, 50, 50, 3)\n",
            "Size of y_test: (8,)\n"
          ]
        }
      ]
    },
    {
      "cell_type": "code",
      "source": [
        "params = ModelParams(file_path='/content/config/system_configuration.json')\n",
        "print(data.x_train.shape[1:])\n",
        "model = Sequential()\n",
        "model.add(Convolution2D(params.nb_filters, params.nb_conv, padding='same', input_shape=data.x_train.shape[1:]))\n",
        "model.add(Activation('relu'))\n",
        "model.add(Convolution2D(params.nb_filters, params.nb_conv))\n",
        "model.add(MaxPooling2D(pool_size=(params.nb_pool, params.nb_pool)))\n",
        "model.add(Dropout(0.5))\n",
        "model.add(Flatten())\n",
        "model.add(Dense(params.nb_dense))\n",
        "model.add(Dropout(0.5))\n",
        "model.add(Dense(params.nb_classes))\n",
        "model.add(Activation('sigmoid'))\n",
        "model.compile(loss='sparse_categorical_crossentropy', optimizer='adadelta', metrics=['accuracy'])\n",
        "model.summary()\n",
        "# Train\n",
        "epochs = 1\n",
        "batch = 5"
      ],
      "metadata": {
        "colab": {
          "base_uri": "https://localhost:8080/"
        },
        "id": "W9yPbAHnSB59",
        "outputId": "e14f60b7-eed8-441f-f11a-5a68e9e51d30"
      },
      "execution_count": 8,
      "outputs": [
        {
          "output_type": "stream",
          "name": "stdout",
          "text": [
            "(50, 50, 3)\n",
            "Model: \"sequential_1\"\n",
            "_________________________________________________________________\n",
            " Layer (type)                Output Shape              Param #   \n",
            "=================================================================\n",
            " conv2d_2 (Conv2D)           (None, 50, 50, 2)         56        \n",
            "                                                                 \n",
            " activation_2 (Activation)   (None, 50, 50, 2)         0         \n",
            "                                                                 \n",
            " conv2d_3 (Conv2D)           (None, 48, 48, 2)         38        \n",
            "                                                                 \n",
            " max_pooling2d_1 (MaxPoolin  (None, 24, 24, 2)         0         \n",
            " g2D)                                                            \n",
            "                                                                 \n",
            " dropout_2 (Dropout)         (None, 24, 24, 2)         0         \n",
            "                                                                 \n",
            " flatten_1 (Flatten)         (None, 1152)              0         \n",
            "                                                                 \n",
            " dense_2 (Dense)             (None, 256)               295168    \n",
            "                                                                 \n",
            " dropout_3 (Dropout)         (None, 256)               0         \n",
            "                                                                 \n",
            " dense_3 (Dense)             (None, 2)                 514       \n",
            "                                                                 \n",
            " activation_3 (Activation)   (None, 2)                 0         \n",
            "                                                                 \n",
            "=================================================================\n",
            "Total params: 295776 (1.13 MB)\n",
            "Trainable params: 295776 (1.13 MB)\n",
            "Non-trainable params: 0 (0.00 Byte)\n",
            "_________________________________________________________________\n"
          ]
        }
      ]
    },
    {
      "cell_type": "code",
      "source": [
        "model.fit(data.x_train, data.y_train, batch_size=batch, epochs=epochs, validation_data=(data.x_test, data.y_test))"
      ],
      "metadata": {
        "colab": {
          "base_uri": "https://localhost:8080/"
        },
        "id": "9L48j0pcTH5A",
        "outputId": "a66c9347-75f1-4ad1-c451-b5d32844936e"
      },
      "execution_count": 9,
      "outputs": [
        {
          "output_type": "stream",
          "name": "stdout",
          "text": [
            "4/4 [==============================] - 2s 132ms/step - loss: 0.7837 - accuracy: 0.4375 - val_loss: 0.7015 - val_accuracy: 0.5000\n"
          ]
        },
        {
          "output_type": "execute_result",
          "data": {
            "text/plain": [
              "<keras.src.callbacks.History at 0x7c77841078e0>"
            ]
          },
          "metadata": {},
          "execution_count": 9
        }
      ]
    }
  ]
}